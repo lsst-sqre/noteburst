{
 "cells": [
  {
   "cell_type": "markdown",
   "id": "081945db-8793-4f82-bad5-e6ce163346fc",
   "metadata": {},
   "source": [
    "# Test notebook\n",
    "\n",
    "This is a test."
   ]
  },
  {
   "cell_type": "code",
   "execution_count": 1,
   "id": "849d019c-68d9-44cf-a45f-50db55fefa9e",
   "metadata": {},
   "outputs": [
    {
     "data": {
      "text/plain": [
       "4"
      ]
     },
     "execution_count": 1,
     "metadata": {},
     "output_type": "execute_result"
    }
   ],
   "source": [
    "2 + 2"
   ]
  }
 ],
 "metadata": {
  "kernelspec": {
   "display_name": "LSST",
   "language": "python",
   "name": "lsst"
  },
  "language_info": {
   "codemirror_mode": {
    "name": "ipython",
    "version": 3
   },
   "file_extension": ".py",
   "mimetype": "text/x-python",
   "name": "python",
   "nbconvert_exporter": "python",
   "pygments_lexer": "ipython3",
   "version": "3.8.12"
  }
 },
 "nbformat": 4,
 "nbformat_minor": 5
}
